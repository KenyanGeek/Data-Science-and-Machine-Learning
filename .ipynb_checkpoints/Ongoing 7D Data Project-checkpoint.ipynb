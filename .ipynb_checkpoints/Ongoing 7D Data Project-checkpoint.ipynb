{
 "cells": [
  {
   "cell_type": "markdown",
   "metadata": {
    "heading_collapsed": true
   },
   "source": [
    "# BACKGROUND"
   ]
  },
  {
   "cell_type": "markdown",
   "metadata": {
    "hidden": true
   },
   "source": [
    "I started the Nikon 7D business in 2014 and have kept daily retail sales data for the past five years until i sold it in Match 2019. I use this real life retail data to see how my business had being doing and utilize open source data science tools to understand retail dynamics. Further am interested in applying machine learning models to make predictions from the collected data."
   ]
  },
  {
   "cell_type": "markdown",
   "metadata": {
    "heading_collapsed": true
   },
   "source": [
    "# OBJECTIVES\n",
    "\n",
    "    "
   ]
  },
  {
   "cell_type": "markdown",
   "metadata": {
    "ExecuteTime": {
     "end_time": "2019-05-05T10:47:25.400866Z",
     "start_time": "2019-05-05T10:47:25.394877Z"
    },
    "hidden": true
   },
   "source": [
    "1. How much money did i make for the whole period, what was the expense and gross profit\n",
    "2. Of this how much money was i making averagly every year, quarter, month, week, day\n",
    "3. Which day was i making the most money -- (so that if i was still running the business i'd know when to increase resources) \n",
    "3. Which day made the least money -- (so that if i was still running the business i'd know when reduce resource expenses)\n",
    "4. Which Month made the most money -- increase resources for delivery\n",
    "5. Which Month made the most money -- (so that if i was still running the business i'd know when increase marketing)\n",
    "6. Remove 2019 data and do predictions with different models Fast.ai, Pytorch and Prophet\n"
   ]
  },
  {
   "cell_type": "markdown",
   "metadata": {
    "heading_collapsed": true
   },
   "source": [
    "# METHODOLOGY\n",
    "\n",
    "    "
   ]
  },
  {
   "cell_type": "markdown",
   "metadata": {
    "ExecuteTime": {
     "end_time": "2019-05-05T10:48:15.043186Z",
     "start_time": "2019-05-05T10:48:15.036191Z"
    },
    "hidden": true
   },
   "source": [
    "1. Data import from excel\n",
    "    * Combine all the sheets using excel or python scripts - Done with python and VB Macros\n",
    "    * Import that data using pandas excel functions\n",
    "2. Data preparation and Munging\n",
    "    * Make more variabes from the available data\n",
    "    * Preliminary visualization of the data to eliminate outliers\n",
    "3. Data Visualization\n",
    "4. Data Analysis to answer above questions\n",
    "5. Machine learning for prediction of Tabular data using Fast.ai\n",
    "6. Machine learning for prediction of Tabular data using Prophet\n",
    "7. Machine learning for prediction of Tabular data using Pytorch"
   ]
  },
  {
   "cell_type": "markdown",
   "metadata": {
    "hidden": true
   },
   "source": []
  },
  {
   "cell_type": "markdown",
   "metadata": {
    "hidden": true
   },
   "source": [
    "Things to do:(To be deleted)\n",
    "    * Enable jupyter extensions and install a git extension to connect to github\n",
    "    * Continue with my work"
   ]
  },
  {
   "cell_type": "code",
   "execution_count": null,
   "metadata": {
    "ExecuteTime": {
     "end_time": "2019-05-05T10:33:02.094653Z",
     "start_time": "2019-05-05T10:33:02.084648Z"
    },
    "hidden": true
   },
   "outputs": [],
   "source": []
  },
  {
   "cell_type": "code",
   "execution_count": null,
   "metadata": {
    "hidden": true
   },
   "outputs": [],
   "source": []
  }
 ],
 "metadata": {
  "hide_input": false,
  "kernelspec": {
   "display_name": "Python 3",
   "language": "python",
   "name": "python3"
  },
  "language_info": {
   "codemirror_mode": {
    "name": "ipython",
    "version": 3
   },
   "file_extension": ".py",
   "mimetype": "text/x-python",
   "name": "python",
   "nbconvert_exporter": "python",
   "pygments_lexer": "ipython3",
   "version": "3.7.2"
  },
  "latex_envs": {
   "LaTeX_envs_menu_present": true,
   "autoclose": false,
   "autocomplete": true,
   "bibliofile": "biblio.bib",
   "cite_by": "apalike",
   "current_citInitial": 1,
   "eqLabelWithNumbers": true,
   "eqNumInitial": 1,
   "hotkeys": {
    "equation": "Ctrl-E",
    "itemize": "Ctrl-I"
   },
   "labels_anchors": false,
   "latex_user_defs": false,
   "report_style_numbering": false,
   "user_envs_cfg": false
  },
  "nbTranslate": {
   "displayLangs": [
    "en"
   ],
   "hotkey": "alt-t",
   "langInMainMenu": true,
   "sourceLang": "en",
   "targetLang": "fr",
   "useGoogleTranslate": true
  },
  "toc": {
   "base_numbering": 1,
   "nav_menu": {
    "height": "120px",
    "width": "253px"
   },
   "number_sections": true,
   "sideBar": true,
   "skip_h1_title": false,
   "title_cell": "Table of Contents",
   "title_sidebar": "Contents",
   "toc_cell": false,
   "toc_position": {},
   "toc_section_display": true,
   "toc_window_display": false
  },
  "varInspector": {
   "cols": {
    "lenName": 16,
    "lenType": 16,
    "lenVar": 40
   },
   "kernels_config": {
    "python": {
     "delete_cmd_postfix": "",
     "delete_cmd_prefix": "del ",
     "library": "var_list.py",
     "varRefreshCmd": "print(var_dic_list())"
    },
    "r": {
     "delete_cmd_postfix": ") ",
     "delete_cmd_prefix": "rm(",
     "library": "var_list.r",
     "varRefreshCmd": "cat(var_dic_list()) "
    }
   },
   "types_to_exclude": [
    "module",
    "function",
    "builtin_function_or_method",
    "instance",
    "_Feature"
   ],
   "window_display": false
  }
 },
 "nbformat": 4,
 "nbformat_minor": 2
}
