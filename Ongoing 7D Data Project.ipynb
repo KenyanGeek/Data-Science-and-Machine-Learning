{
 "cells": [
  {
   "cell_type": "markdown",
   "metadata": {
    "toc": true
   },
   "source": [
    "<h1>Table of Contents<span class=\"tocSkip\"></span></h1>\n",
    "<div class=\"toc\"><ul class=\"toc-item\"><li><span><a href=\"#INTRODUCTION\" data-toc-modified-id=\"INTRODUCTION-1\"><span class=\"toc-item-num\">1&nbsp;&nbsp;</span>INTRODUCTION</a></span><ul class=\"toc-item\"><li><span><a href=\"#BACKGROUND\" data-toc-modified-id=\"BACKGROUND-1.1\"><span class=\"toc-item-num\">1.1&nbsp;&nbsp;</span>BACKGROUND</a></span></li><li><span><a href=\"#OBJECTIVES\" data-toc-modified-id=\"OBJECTIVES-1.2\"><span class=\"toc-item-num\">1.2&nbsp;&nbsp;</span>OBJECTIVES</a></span></li><li><span><a href=\"#METHODOLOGY\" data-toc-modified-id=\"METHODOLOGY-1.3\"><span class=\"toc-item-num\">1.3&nbsp;&nbsp;</span>METHODOLOGY</a></span></li><li><span><a href=\"#LIBRARIES\" data-toc-modified-id=\"LIBRARIES-1.4\"><span class=\"toc-item-num\">1.4&nbsp;&nbsp;</span>LIBRARIES</a></span></li></ul></li><li><span><a href=\"#COMBINE-EXCEL-DATA-SHEETS\" data-toc-modified-id=\"COMBINE-EXCEL-DATA-SHEETS-2\"><span class=\"toc-item-num\">2&nbsp;&nbsp;</span>COMBINE EXCEL DATA SHEETS</a></span><ul class=\"toc-item\"><li><span><a href=\"#Importing-necessary-libraries\" data-toc-modified-id=\"Importing-necessary-libraries-2.1\"><span class=\"toc-item-num\">2.1&nbsp;&nbsp;</span>Importing necessary libraries</a></span></li><li><span><a href=\"#Combining-the-sheets\" data-toc-modified-id=\"Combining-the-sheets-2.2\"><span class=\"toc-item-num\">2.2&nbsp;&nbsp;</span>Combining the sheets</a></span></li></ul></li><li><span><a href=\"#IMPORT-DATA-TO-PYTHON\" data-toc-modified-id=\"IMPORT-DATA-TO-PYTHON-3\"><span class=\"toc-item-num\">3&nbsp;&nbsp;</span>IMPORT DATA TO PYTHON</a></span><ul class=\"toc-item\"><li><span><a href=\"#Importing-Data-from-an-Excel-sheet\" data-toc-modified-id=\"Importing-Data-from-an-Excel-sheet-3.1\"><span class=\"toc-item-num\">3.1&nbsp;&nbsp;</span>Importing Data from an Excel sheet</a></span></li><li><span><a href=\"#Check-the-Datatypes\" data-toc-modified-id=\"Check-the-Datatypes-3.2\"><span class=\"toc-item-num\">3.2&nbsp;&nbsp;</span>Check the Datatypes</a></span></li></ul></li><li><span><a href=\"#Data-Engineering\" data-toc-modified-id=\"Data-Engineering-4\"><span class=\"toc-item-num\">4&nbsp;&nbsp;</span>Data Engineering</a></span><ul class=\"toc-item\"><li><ul class=\"toc-item\"><li><span><a href=\"#Generate-more-columns-from-Date-datatype\" data-toc-modified-id=\"Generate-more-columns-from-Date-datatype-4.0.1\"><span class=\"toc-item-num\">4.0.1&nbsp;&nbsp;</span>Generate more columns from Date datatype</a></span></li></ul></li></ul></li></ul></div>"
   ]
  },
  {
   "cell_type": "markdown",
   "metadata": {},
   "source": [
    "# INTRODUCTION"
   ]
  },
  {
   "cell_type": "markdown",
   "metadata": {},
   "source": [
    "## BACKGROUND"
   ]
  },
  {
   "cell_type": "markdown",
   "metadata": {},
   "source": [
    "I started the Nikon 7D business in 2014 in an upcountry town of Kenya. I purposed to keep daily retail sales data for the past five years until i sold it in March 2019 for a hefty profit. In this notebook; I use this real life retail data to see how my business had being doing and utilize open source data science tools to understand retail dynamics. Further am interested in applying machine learning models to make predictions from the collected data. Why? Just for fun - but anybody can follow this workflow to analyse their business and make useful predictions."
   ]
  },
  {
   "cell_type": "markdown",
   "metadata": {},
   "source": [
    "## OBJECTIVES\n",
    "\n",
    "    "
   ]
  },
  {
   "cell_type": "markdown",
   "metadata": {
    "ExecuteTime": {
     "end_time": "2019-05-05T10:47:25.400866Z",
     "start_time": "2019-05-05T10:47:25.394877Z"
    }
   },
   "source": [
    "1. Understand how much money i made for the whole period, what was the expenses and gross profit\n",
    "2. Understand how much money i was making averagely every year, quarter, month, week, day\n",
    "3. Which day of the week was i making the most money -- (so that if i was still running the business i would know when to increase resources) \n",
    "3. Which day of the week was i making the least money -- (so that if i was still running the business i would know when to reduce resource expenses)\n",
    "4. Which Month did i make the most money -- increase resources for delivery\n",
    "5. Which Month made the least money -- (so that if i was still running the business i would know when increase marketing)\n",
    "6. Remove 2019 data and do predictions with different models Fast.ai, Pytorch and Prophet and compare the efficability of the various models\n",
    "\n",
    "\n"
   ]
  },
  {
   "cell_type": "markdown",
   "metadata": {},
   "source": [
    "## METHODOLOGY\n",
    "\n",
    "    "
   ]
  },
  {
   "cell_type": "markdown",
   "metadata": {
    "ExecuteTime": {
     "end_time": "2019-05-05T10:48:15.043186Z",
     "start_time": "2019-05-05T10:48:15.036191Z"
    }
   },
   "source": [
    "1. Data import from excel\n",
    "    1. Combine all the sheets using excel or python scripts - Done with python and VB Macros\n",
    "    2. Import that data using pandas excel functions\n",
    "2. Data preparation and Munging\n",
    "    1. Make more variabes from the available data using python\n",
    "    2. Preliminary visualization of the data to help eliminate outliers\n",
    "3. Data Visualization\n",
    "4. Data Analysis to answer above questions\n",
    "5. Machine learning for prediction of Tabular data using Fast.ai\n",
    "6. Machine learning for prediction of Tabular data using Prophet\n",
    "7. Machine learning for prediction of Tabular data using Pytorch\n",
    "8. Machine learning for prediction of Tabular data using XGBOOST\n",
    "8. Comparison of the best machine learning model"
   ]
  },
  {
   "cell_type": "markdown",
   "metadata": {
    "code_folding": []
   },
   "source": [
    "## LIBRARIES "
   ]
  },
  {
   "cell_type": "markdown",
   "metadata": {
    "code_folding": []
   },
   "source": [
    "I will use the following libraries and open source softwares:\n",
    "* General Open source Distributions for Data Science\n",
    "  - Ananconda Distribution\n",
    "  - Python\n",
    "* Python Data Analysis Libraries\n",
    "  - Pandas\n",
    "* Python Visualization Libraries\n",
    "  - Matplotlib\n",
    "  - Seaborn\n",
    "* Python Machine Learning Libraries\n",
    "  - Scikit Learn\n",
    "  - XGBOOST Algorithms\n",
    "  - Prophet\n",
    "  - Fast.ai\n",
    "  - Pytorch\n",
    "  \n",
    "    "
   ]
  },
  {
   "cell_type": "markdown",
   "metadata": {},
   "source": [
    "# COMBINE EXCEL DATA SHEETS"
   ]
  },
  {
   "cell_type": "markdown",
   "metadata": {},
   "source": [
    "I have 43 excel sheets in one workbook representing the 43 months i had collected data for the business, so in this section i will collate the 43 different sheets in an excel workbook to one file which i can then work with."
   ]
  },
  {
   "cell_type": "markdown",
   "metadata": {},
   "source": [
    "## Importing necessary libraries"
   ]
  },
  {
   "cell_type": "code",
   "execution_count": 1,
   "metadata": {},
   "outputs": [],
   "source": [
    "# Here i will import the following libraries \n",
    "\n",
    "#pandas — (Python for Data Analysis Library) — has libraries that help you carry out data analysis\n",
    "#numpy — (A library for playing around with numbers in Python)\n",
    "#os — helps you dip your hands into the operating system of whatever computer you are using\n",
    "#collections — are containers that are used to store collections of data\n",
    "#csv — library that reads and writes tabular data in CSV format.\n",
    "#basename — function found in the path method of the os library that extracts the base name or directory name conveniently\n",
    "\n",
    "from __future__ import print_function, division\n",
    "\n",
    "import pandas as pd \n",
    "import numpy as np\n",
    "import os, collections, csv\n",
    "from os.path  import basename"
   ]
  },
  {
   "cell_type": "markdown",
   "metadata": {},
   "source": [
    "## Combining the sheets"
   ]
  },
  {
   "cell_type": "code",
   "execution_count": 2,
   "metadata": {},
   "outputs": [],
   "source": [
    "# next create an empty dictionary with a variable name df\n",
    "# initialize f which is a variable that is assigned the name of the original workbook with the many sheets that you want to combine\n",
    "# store a variable numberOfSheets with the sheets you want to combine \n",
    "df = []\n",
    "\n",
    "\n",
    "f = \"C:/Users/Njoroge Wa Chege/Desktop/7D DATA PROJECT/python test/income.xlsx\"\n",
    "numberOfSheets = 43\n",
    "\n",
    "#you can use VBScripts to rename your excel sheets to have consistent names\n",
    "\n",
    "for i in range(1,numberOfSheets+1):    \n",
    "     data = pd.read_excel(f, sheet_name = 'month'+str(i), header=None) \n",
    "     df.append(data)\n",
    "    \n",
    "#remember python is very strict on how you arrange your forward and back slashes so be aware of this: i am using windows here and hence the forward slashes\n",
    "\n",
    "#determine the path where the final compiled file will go\n",
    "\n",
    "final = \"C:/Users/Njoroge Wa Chege/Desktop/7D DATA PROJECT/python test/mergedfile.xlsx\"\n",
    "\n",
    "# I then use the .concat() function from pandas to join/concatenate the sheets together into one\n",
    "\n",
    "df = pd.concat(df)\n",
    "\n",
    "# I finally write the final combined excel sheet to the path i had defined in final!\n",
    "\n",
    "df.to_excel(final)\n",
    "\n",
    "\n"
   ]
  },
  {
   "cell_type": "markdown",
   "metadata": {},
   "source": [
    "# IMPORT DATA TO PYTHON"
   ]
  },
  {
   "cell_type": "markdown",
   "metadata": {},
   "source": [
    "## Importing Data from an Excel sheet"
   ]
  },
  {
   "cell_type": "code",
   "execution_count": 3,
   "metadata": {
    "ExecuteTime": {
     "end_time": "2019-05-05T12:30:50.656097Z",
     "start_time": "2019-05-05T12:30:50.653116Z"
    }
   },
   "outputs": [
    {
     "data": {
      "text/plain": [
       "'C:/Users/Njoroge Wa Chege/Desktop/7D DATA PROJECT/python test/mergedfile.xlsx'"
      ]
     },
     "execution_count": 3,
     "metadata": {},
     "output_type": "execute_result"
    }
   ],
   "source": [
    "# I will save the path to my file as a python variable:\n",
    "# Confirm that the file location has been saved\n",
    "\n",
    "\n",
    "mydata ='C:/Users/Njoroge Wa Chege/Desktop/7D DATA PROJECT/python test/mergedfile.xlsx'\n",
    "\n",
    "mydata"
   ]
  },
  {
   "cell_type": "code",
   "execution_count": 4,
   "metadata": {
    "ExecuteTime": {
     "end_time": "2019-05-05T12:34:03.209730Z",
     "start_time": "2019-05-05T12:34:02.650964Z"
    }
   },
   "outputs": [
    {
     "data": {
      "text/html": [
       "<div>\n",
       "<style scoped>\n",
       "    .dataframe tbody tr th:only-of-type {\n",
       "        vertical-align: middle;\n",
       "    }\n",
       "\n",
       "    .dataframe tbody tr th {\n",
       "        vertical-align: top;\n",
       "    }\n",
       "\n",
       "    .dataframe thead th {\n",
       "        text-align: right;\n",
       "    }\n",
       "</style>\n",
       "<table border=\"1\" class=\"dataframe\">\n",
       "  <thead>\n",
       "    <tr style=\"text-align: right;\">\n",
       "      <th></th>\n",
       "      <th>0</th>\n",
       "      <th>day</th>\n",
       "      <th>date</th>\n",
       "      <th>netprofit</th>\n",
       "      <th>expense</th>\n",
       "      <th>bonus</th>\n",
       "      <th>grossprofit</th>\n",
       "    </tr>\n",
       "  </thead>\n",
       "  <tbody>\n",
       "    <tr>\n",
       "      <th>0</th>\n",
       "      <td>1</td>\n",
       "      <td>Monday</td>\n",
       "      <td>2015-09-07</td>\n",
       "      <td>2050</td>\n",
       "      <td>100</td>\n",
       "      <td>0</td>\n",
       "      <td>1950</td>\n",
       "    </tr>\n",
       "    <tr>\n",
       "      <th>1</th>\n",
       "      <td>2</td>\n",
       "      <td>Tuesday</td>\n",
       "      <td>2015-09-08</td>\n",
       "      <td>1750</td>\n",
       "      <td>50</td>\n",
       "      <td>0</td>\n",
       "      <td>1700</td>\n",
       "    </tr>\n",
       "    <tr>\n",
       "      <th>2</th>\n",
       "      <td>3</td>\n",
       "      <td>Wednesday</td>\n",
       "      <td>2015-09-09</td>\n",
       "      <td>700</td>\n",
       "      <td>0</td>\n",
       "      <td>0</td>\n",
       "      <td>700</td>\n",
       "    </tr>\n",
       "    <tr>\n",
       "      <th>3</th>\n",
       "      <td>4</td>\n",
       "      <td>Thursday</td>\n",
       "      <td>2015-09-10</td>\n",
       "      <td>1100</td>\n",
       "      <td>0</td>\n",
       "      <td>0</td>\n",
       "      <td>1100</td>\n",
       "    </tr>\n",
       "    <tr>\n",
       "      <th>4</th>\n",
       "      <td>5</td>\n",
       "      <td>Friday</td>\n",
       "      <td>2015-09-11</td>\n",
       "      <td>1100</td>\n",
       "      <td>0</td>\n",
       "      <td>0</td>\n",
       "      <td>1100</td>\n",
       "    </tr>\n",
       "  </tbody>\n",
       "</table>\n",
       "</div>"
      ],
      "text/plain": [
       "   0        day       date  netprofit  expense  bonus   grossprofit\n",
       "0  1     Monday 2015-09-07       2050      100       0         1950\n",
       "1  2    Tuesday 2015-09-08       1750       50       0         1700\n",
       "2  3  Wednesday 2015-09-09        700        0       0          700\n",
       "3  4   Thursday 2015-09-10       1100        0       0         1100\n",
       "4  5     Friday 2015-09-11       1100        0       0         1100"
      ]
     },
     "execution_count": 4,
     "metadata": {},
     "output_type": "execute_result"
    }
   ],
   "source": [
    "# I will then use pandas method .readexcel to read the data and convert it to a dataframe\n",
    "# We will also pass a header variable to let pandas know our header row\n",
    "# I will then check the contents of my dataframe by calling the df variable on the first five rows by calling df.head()\n",
    "\n",
    "\n",
    "\n",
    "df = pd.read_excel( mydata, sheet_name='Sheet1', header=1)\n",
    "\n",
    "df.head()\n"
   ]
  },
  {
   "cell_type": "code",
   "execution_count": 5,
   "metadata": {},
   "outputs": [
    {
     "data": {
      "text/html": [
       "<div>\n",
       "<style scoped>\n",
       "    .dataframe tbody tr th:only-of-type {\n",
       "        vertical-align: middle;\n",
       "    }\n",
       "\n",
       "    .dataframe tbody tr th {\n",
       "        vertical-align: top;\n",
       "    }\n",
       "\n",
       "    .dataframe thead th {\n",
       "        text-align: right;\n",
       "    }\n",
       "</style>\n",
       "<table border=\"1\" class=\"dataframe\">\n",
       "  <thead>\n",
       "    <tr style=\"text-align: right;\">\n",
       "      <th></th>\n",
       "      <th>0</th>\n",
       "      <th>day</th>\n",
       "      <th>date</th>\n",
       "      <th>netprofit</th>\n",
       "      <th>expense</th>\n",
       "      <th>bonus</th>\n",
       "      <th>grossprofit</th>\n",
       "    </tr>\n",
       "  </thead>\n",
       "  <tbody>\n",
       "    <tr>\n",
       "      <th>1282</th>\n",
       "      <td>4</td>\n",
       "      <td>Monday</td>\n",
       "      <td>2019-03-11</td>\n",
       "      <td>1300</td>\n",
       "      <td>50</td>\n",
       "      <td>100</td>\n",
       "      <td>1150</td>\n",
       "    </tr>\n",
       "    <tr>\n",
       "      <th>1283</th>\n",
       "      <td>5</td>\n",
       "      <td>Tuesday</td>\n",
       "      <td>2019-03-12</td>\n",
       "      <td>1650</td>\n",
       "      <td>50</td>\n",
       "      <td>150</td>\n",
       "      <td>1450</td>\n",
       "    </tr>\n",
       "    <tr>\n",
       "      <th>1284</th>\n",
       "      <td>6</td>\n",
       "      <td>Wednesday</td>\n",
       "      <td>2019-03-13</td>\n",
       "      <td>1400</td>\n",
       "      <td>600</td>\n",
       "      <td>100</td>\n",
       "      <td>700</td>\n",
       "    </tr>\n",
       "    <tr>\n",
       "      <th>1285</th>\n",
       "      <td>7</td>\n",
       "      <td>Thursday</td>\n",
       "      <td>2019-03-14</td>\n",
       "      <td>1250</td>\n",
       "      <td>0</td>\n",
       "      <td>100</td>\n",
       "      <td>1150</td>\n",
       "    </tr>\n",
       "    <tr>\n",
       "      <th>1286</th>\n",
       "      <td>8</td>\n",
       "      <td>Friday</td>\n",
       "      <td>2019-03-15</td>\n",
       "      <td>1000</td>\n",
       "      <td>0</td>\n",
       "      <td>100</td>\n",
       "      <td>900</td>\n",
       "    </tr>\n",
       "  </tbody>\n",
       "</table>\n",
       "</div>"
      ],
      "text/plain": [
       "      0        day       date  netprofit  expense  bonus   grossprofit\n",
       "1282  4     Monday 2019-03-11       1300       50     100         1150\n",
       "1283  5    Tuesday 2019-03-12       1650       50     150         1450\n",
       "1284  6  Wednesday 2019-03-13       1400      600     100          700\n",
       "1285  7   Thursday 2019-03-14       1250        0     100         1150\n",
       "1286  8     Friday 2019-03-15       1000        0     100          900"
      ]
     },
     "execution_count": 5,
     "metadata": {},
     "output_type": "execute_result"
    }
   ],
   "source": [
    "df.tail() #showcases the last five columns of our dataframe"
   ]
  },
  {
   "cell_type": "code",
   "execution_count": 6,
   "metadata": {},
   "outputs": [
    {
     "data": {
      "text/plain": [
       "1287"
      ]
     },
     "execution_count": 6,
     "metadata": {},
     "output_type": "execute_result"
    }
   ],
   "source": [
    "len(df) #shows how many data rows we have \n"
   ]
  },
  {
   "cell_type": "markdown",
   "metadata": {},
   "source": [
    "## Check the Datatypes"
   ]
  },
  {
   "cell_type": "code",
   "execution_count": 7,
   "metadata": {},
   "outputs": [
    {
     "data": {
      "text/plain": [
       "0                       int64\n",
       "day                    object\n",
       "date           datetime64[ns]\n",
       "netprofit               int64\n",
       "expense                 int64\n",
       "bonus                   int64\n",
       "grossprofit             int64\n",
       "dtype: object"
      ]
     },
     "execution_count": 7,
     "metadata": {},
     "output_type": "execute_result"
    }
   ],
   "source": [
    "df.dtypes"
   ]
  },
  {
   "cell_type": "markdown",
   "metadata": {},
   "source": [
    "It seems it has detected the datatypes of our columns so we are in luck, and now know that we are dealing with the correct pandas datatypes!"
   ]
  },
  {
   "cell_type": "markdown",
   "metadata": {},
   "source": [
    "# Data Engineering"
   ]
  },
  {
   "cell_type": "markdown",
   "metadata": {},
   "source": [
    "### Generate more columns from Date datatype"
   ]
  },
  {
   "cell_type": "markdown",
   "metadata": {},
   "source": []
  }
 ],
 "metadata": {
  "hide_input": false,
  "kernelspec": {
   "display_name": "Python 3",
   "language": "python",
   "name": "python3"
  },
  "language_info": {
   "codemirror_mode": {
    "name": "ipython",
    "version": 3
   },
   "file_extension": ".py",
   "mimetype": "text/x-python",
   "name": "python",
   "nbconvert_exporter": "python",
   "pygments_lexer": "ipython3",
   "version": "3.7.2"
  },
  "latex_envs": {
   "LaTeX_envs_menu_present": true,
   "autoclose": false,
   "autocomplete": true,
   "bibliofile": "biblio.bib",
   "cite_by": "apalike",
   "current_citInitial": 1,
   "eqLabelWithNumbers": true,
   "eqNumInitial": 1,
   "hotkeys": {
    "equation": "Ctrl-E",
    "itemize": "Ctrl-I"
   },
   "labels_anchors": false,
   "latex_user_defs": false,
   "report_style_numbering": false,
   "user_envs_cfg": false
  },
  "nbTranslate": {
   "displayLangs": [
    "en"
   ],
   "hotkey": "alt-t",
   "langInMainMenu": true,
   "sourceLang": "en",
   "targetLang": "fr",
   "useGoogleTranslate": true
  },
  "notify_time": "5",
  "toc": {
   "base_numbering": 1,
   "nav_menu": {
    "height": "120px",
    "width": "253px"
   },
   "number_sections": true,
   "sideBar": true,
   "skip_h1_title": false,
   "title_cell": "Table of Contents",
   "title_sidebar": "Contents",
   "toc_cell": true,
   "toc_position": {
    "height": "calc(100% - 180px)",
    "left": "10px",
    "top": "150px",
    "width": "307.2px"
   },
   "toc_section_display": true,
   "toc_window_display": true
  },
  "varInspector": {
   "cols": {
    "lenName": 16,
    "lenType": 16,
    "lenVar": 40
   },
   "kernels_config": {
    "python": {
     "delete_cmd_postfix": "",
     "delete_cmd_prefix": "del ",
     "library": "var_list.py",
     "varRefreshCmd": "print(var_dic_list())"
    },
    "r": {
     "delete_cmd_postfix": ") ",
     "delete_cmd_prefix": "rm(",
     "library": "var_list.r",
     "varRefreshCmd": "cat(var_dic_list()) "
    }
   },
   "position": {
    "height": "122.4px",
    "left": "1212.6px",
    "right": "20px",
    "top": "120px",
    "width": "303.4px"
   },
   "types_to_exclude": [
    "module",
    "function",
    "builtin_function_or_method",
    "instance",
    "_Feature"
   ],
   "window_display": false
  }
 },
 "nbformat": 4,
 "nbformat_minor": 2
}
